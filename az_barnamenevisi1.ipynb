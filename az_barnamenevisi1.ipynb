{
  "nbformat": 4,
  "nbformat_minor": 0,
  "metadata": {
    "colab": {
      "provenance": []
    },
    "kernelspec": {
      "name": "python3",
      "display_name": "Python 3"
    },
    "language_info": {
      "name": "python"
    }
  },
  "cells": [
    {
      "cell_type": "code",
      "source": [
        "sentences=input('Enter a few sentences: \\n')\n",
        "#tedade kalamat:\n",
        "sentences1=sentences.replace('.',' ')\n",
        "sentences1=sentences1.replace('!',' ')\n",
        "sentences1=sentences1.replace('?',' ')\n",
        "sentences1=sentences1.replace(':',' ')\n",
        "sentences1=sentences1.replace(',',' ')\n",
        "words=sentences1.split(' ')\n",
        "k_num=len(words)-1\n",
        "print('Number of words= ',k_num)\n",
        "#tedade horoof:\n",
        "letters=sentences1.replace(' ','')\n",
        "h_num=len(letters)\n",
        "print('Number of letters= ',h_num)\n",
        "#tedade jomalat:\n",
        "sentence=sentences.split('.')\n",
        "j_num=len(sentence)-1\n",
        "print('Number of sentences= ',j_num)\n",
        "#'r' bejaie 'p':\n",
        "sentences2=sentences.replace('p','r')\n",
        "print('new sentences= ',sentences2)"
      ],
      "metadata": {
        "colab": {
          "base_uri": "https://localhost:8080/"
        },
        "id": "VPYWjl2YB03o",
        "outputId": "cd20508b-8e8f-4369-9d92-41e2fe7696dd"
      },
      "execution_count": 13,
      "outputs": [
        {
          "output_type": "stream",
          "name": "stdout",
          "text": [
            "Enter a few sentences: \n",
            "bbddfh.fhvh fnbvfb fnbvfh?\n",
            "Number of words=  4\n",
            "Number of letters=  22\n",
            "Number of sentences=  1\n",
            "new sentences=  bbddfh.fhvh fnbvfb fnbvfh?\n"
          ]
        }
      ]
    }
  ]
}